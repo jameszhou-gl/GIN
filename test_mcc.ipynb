{
 "cells": [
  {
   "cell_type": "code",
   "execution_count": 25,
   "metadata": {},
   "outputs": [],
   "source": [
    "import numpy as np\n",
    "import torch\n",
    "from scipy.optimize import linear_sum_assignment"
   ]
  },
  {
   "cell_type": "code",
   "execution_count": 57,
   "metadata": {},
   "outputs": [],
   "source": [
    "n_domains = 2\n",
    "n_data_points = 10000\n",
    "dim_s = 2\n",
    "dim_c = 2\n",
    "n_dims = 10\n",
    "mu_u = torch.rand(n_domains, dim_s)*10 - 1   # in range (-4, 4)\n",
    "sig_u = torch.rand(n_domains, dim_s)*0.99 + 0.01  # in range (-0.01, 1)\n",
    "labels = torch.randint(n_domains, size=(n_data_points,))\n",
    "z_s = mu_u[labels] + \\\n",
    "    torch.randn(n_data_points, dim_s)*sig_u[labels]\n",
    "z_c = torch.randn(n_data_points, dim_c)\n",
    "z_noise = torch.randn(n_data_points, n_dims-dim_s-dim_c)*1e-2\n",
    "latent = torch.cat([z_s, z_c, z_noise], 1)"
   ]
  },
  {
   "cell_type": "code",
   "execution_count": 58,
   "metadata": {},
   "outputs": [
    {
     "name": "stdout",
     "output_type": "stream",
     "text": [
      "torch.Size([10000, 1])\n",
      "0.316208783349932\n"
     ]
    }
   ],
   "source": [
    "z_s_0 = z_s[:, :1].numpy()\n",
    "z_s_1 = z_s[:, 1:2].numpy()\n",
    "print(z_s[:, :1].shape)\n",
    "d = z_s[:, :1].shape[1]\n",
    "cc = np.corrcoef(z_s_0, z_s_1, rowvar=False)[:d, d:]\n",
    "cc = np.abs(cc)\n",
    "score = cc[linear_sum_assignment(-1 * cc)].mean()\n",
    "print(score)\n"
   ]
  },
  {
   "cell_type": "code",
   "execution_count": null,
   "metadata": {},
   "outputs": [],
   "source": []
  },
  {
   "cell_type": "code",
   "execution_count": null,
   "metadata": {},
   "outputs": [],
   "source": []
  }
 ],
 "metadata": {
  "kernelspec": {
   "display_name": "gin",
   "language": "python",
   "name": "python3"
  },
  "language_info": {
   "codemirror_mode": {
    "name": "ipython",
    "version": 3
   },
   "file_extension": ".py",
   "mimetype": "text/x-python",
   "name": "python",
   "nbconvert_exporter": "python",
   "pygments_lexer": "ipython3",
   "version": "3.8.3"
  },
  "orig_nbformat": 4
 },
 "nbformat": 4,
 "nbformat_minor": 2
}
